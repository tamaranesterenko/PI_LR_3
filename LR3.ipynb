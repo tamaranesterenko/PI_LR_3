{
 "cells": [
  {
   "cell_type": "markdown",
   "id": "ca6d0e32",
   "metadata": {},
   "source": [
    "# Производная"
   ]
  },
  {
   "cell_type": "code",
   "execution_count": 4,
   "id": "b52da8cc",
   "metadata": {},
   "outputs": [],
   "source": [
    "# !/usr/bin/env python3\n",
    "# -*- cosing: utf-8 -*-\n",
    "\n",
    "from sympy import *"
   ]
  },
  {
   "cell_type": "code",
   "execution_count": 5,
   "id": "43ec85bd",
   "metadata": {},
   "outputs": [
    {
     "data": {
      "text/latex": [
       "$\\displaystyle - x \\sin{\\left(x \\right)} + \\cos{\\left(x \\right)}$"
      ],
      "text/plain": [
       "-x*sin(x) + cos(x)"
      ]
     },
     "execution_count": 5,
     "metadata": {},
     "output_type": "execute_result"
    }
   ],
   "source": [
    "x = symbols('x')\n",
    "y = x*cos(x)\n",
    "diff(x*cos(x), x)"
   ]
  },
  {
   "cell_type": "code",
   "execution_count": 6,
   "id": "a8b6083b",
   "metadata": {},
   "outputs": [
    {
     "data": {
      "text/latex": [
       "$\\displaystyle \\frac{2}{x^{3}}$"
      ],
      "text/plain": [
       "2/x**3"
      ]
     },
     "execution_count": 6,
     "metadata": {},
     "output_type": "execute_result"
    }
   ],
   "source": [
    "diff(log(x), x, 3)"
   ]
  },
  {
   "cell_type": "code",
   "execution_count": 7,
   "id": "e20b57f4",
   "metadata": {},
   "outputs": [
    {
     "data": {
      "text/latex": [
       "$\\displaystyle \\frac{2}{x^{3}}$"
      ],
      "text/plain": [
       "2/x**3"
      ]
     },
     "execution_count": 7,
     "metadata": {},
     "output_type": "execute_result"
    }
   ],
   "source": [
    "diff(log(x), x, x, x)"
   ]
  },
  {
   "cell_type": "code",
   "execution_count": 8,
   "id": "a7f145d8",
   "metadata": {},
   "outputs": [
    {
     "data": {
      "text/latex": [
       "$\\displaystyle - 2 \\sin{\\left(10 \\right)} - 10 \\cos{\\left(10 \\right)}$"
      ],
      "text/plain": [
       "-2*sin(10) - 10*cos(10)"
      ]
     },
     "execution_count": 8,
     "metadata": {},
     "output_type": "execute_result"
    }
   ],
   "source": [
    "у = log(x**3,10)**3\n",
    "diff(y,x,2).subs(x,10)"
   ]
  },
  {
   "cell_type": "code",
   "execution_count": 9,
   "id": "f16b5ef5",
   "metadata": {},
   "outputs": [
    {
     "data": {
      "text/latex": [
       "$\\displaystyle - 2 \\sin{\\left(10 \\right)} - 10 \\cos{\\left(10 \\right)}$"
      ],
      "text/plain": [
       "-2*sin(10) - 10*cos(10)"
      ]
     },
     "execution_count": 9,
     "metadata": {},
     "output_type": "execute_result"
    }
   ],
   "source": [
    "у = log(x**3,10)**3\n",
    "diff(y,x,2).subs(x,10).simplify()"
   ]
  },
  {
   "cell_type": "code",
   "execution_count": 10,
   "id": "a3ddfecf",
   "metadata": {},
   "outputs": [
    {
     "data": {
      "text/plain": [
       "[7/11]"
      ]
     },
     "execution_count": 10,
     "metadata": {},
     "output_type": "execute_result"
    }
   ],
   "source": [
    "y = (x**2 + x - 6) / (x**2 - 10*x + 25)\n",
    "z = diff(y, x)\n",
    "solve(z, x)"
   ]
  },
  {
   "cell_type": "code",
   "execution_count": 11,
   "id": "f33b3402",
   "metadata": {},
   "outputs": [
    {
     "data": {
      "text/latex": [
       "$\\displaystyle - \\frac{x}{y}$"
      ],
      "text/plain": [
       "-x/y"
      ]
     },
     "execution_count": 11,
     "metadata": {},
     "output_type": "execute_result"
    }
   ],
   "source": [
    "y = symbols('y')\n",
    "f = x**2 + y**2 - 4\n",
    "idiff(f, y, x)"
   ]
  },
  {
   "cell_type": "code",
   "execution_count": 12,
   "id": "82163175",
   "metadata": {},
   "outputs": [
    {
     "data": {
      "text/latex": [
       "$\\displaystyle - \\frac{\\frac{x^{2}}{y^{2}} + 1}{y}$"
      ],
      "text/plain": [
       "-(x**2/y**2 + 1)/y"
      ]
     },
     "execution_count": 12,
     "metadata": {},
     "output_type": "execute_result"
    }
   ],
   "source": [
    "y = symbols('y')\n",
    "f = x**2 + y**2 - 4\n",
    "idiff(f, y, x, 2)"
   ]
  },
  {
   "cell_type": "code",
   "execution_count": 13,
   "id": "84ef68b3",
   "metadata": {},
   "outputs": [
    {
     "data": {
      "text/latex": [
       "$\\displaystyle \\frac{- x^{2} - y^{2}}{y^{3}}$"
      ],
      "text/plain": [
       "(-x**2 - y**2)/y**3"
      ]
     },
     "execution_count": 13,
     "metadata": {},
     "output_type": "execute_result"
    }
   ],
   "source": [
    "idiff(f, y, x, 2).simplify()"
   ]
  },
  {
   "cell_type": "code",
   "execution_count": 14,
   "id": "c7fb0290",
   "metadata": {},
   "outputs": [
    {
     "data": {
      "text/latex": [
       "$\\displaystyle \\frac{\\sin{\\left(t \\right)}}{1 - \\cos{\\left(t \\right)}}$"
      ],
      "text/plain": [
       "sin(t)/(1 - cos(t))"
      ]
     },
     "execution_count": 14,
     "metadata": {},
     "output_type": "execute_result"
    }
   ],
   "source": [
    "t = symbols('t')\n",
    "x = t - sin(t)\n",
    "y = 1 - cos(t)\n",
    "y_diff = diff(y, t) / diff(x, t)\n",
    "y_diff"
   ]
  },
  {
   "cell_type": "code",
   "execution_count": 15,
   "id": "a86157e4",
   "metadata": {},
   "outputs": [
    {
     "data": {
      "text/latex": [
       "$\\displaystyle - \\frac{1}{\\left(\\cos{\\left(t \\right)} - 1\\right)^{2}}$"
      ],
      "text/plain": [
       "-1/(cos(t) - 1)**2"
      ]
     },
     "execution_count": 15,
     "metadata": {},
     "output_type": "execute_result"
    }
   ],
   "source": [
    "y_2diff = diff(y_diff, t) / diff(x, t)\n",
    "y_2diff.simplify()"
   ]
  },
  {
   "cell_type": "code",
   "execution_count": 111,
   "id": "4a67f1d3",
   "metadata": {},
   "outputs": [
    {
     "data": {
      "image/png": "[encoded data removed]",
      "text/plain": [
       "<Figure size 640x480 with 1 Axes>"
      ]
     },
     "metadata": {},
     "output_type": "display_data"
    }
   ],
   "source": [
    "import numpy as np\n",
    "import matplotlib.pyplot as plt\n",
    "\n",
    "\n",
    "%matplotlib inline\n",
    "x = np.linspace(-2, 2, 500)\n",
    "x[(x > -0.01) & (x < 0.01)] = np.nan\n",
    "y = np.arctan(1 / x)\n",
    "plt.plot(x, y)\n",
    "plt.vlines(0, -1.6, 1.6, color = 'g', linestyles = 'dashed')\n",
    "plt.show()"
   ]
  },
  {
   "cell_type": "code",
   "execution_count": 17,
   "id": "81132d92",
   "metadata": {},
   "outputs": [
    {
     "data": {
      "text/latex": [
       "$\\displaystyle \\frac{\\left(10 - 2 x\\right) \\left(x^{2} + x - 6\\right)}{\\left(x^{2} - 10 x + 25\\right)^{2}} + \\frac{2 x + 1}{x^{2} - 10 x + 25}$"
      ],
      "text/plain": [
       "(10 - 2*x)*(x**2 + x - 6)/(x**2 - 10*x + 25)**2 + (2*x + 1)/(x**2 - 10*x + 25)"
      ]
     },
     "execution_count": 17,
     "metadata": {},
     "output_type": "execute_result"
    }
   ],
   "source": [
    "limit(z, x, 0, dir = \"+\")"
   ]
  },
  {
   "cell_type": "code",
   "execution_count": 18,
   "id": "a5d6519a",
   "metadata": {},
   "outputs": [
    {
     "data": {
      "image/png": "[encoded data removed]",
      "text/plain": [
       "<Figure size 640x480 with 1 Axes>"
      ]
     },
     "metadata": {},
     "output_type": "display_data"
    }
   ],
   "source": [
    "x = np.linspace(-3, 4, 50)\n",
    "y1 = x**2\n",
    "plt.plot(x, y1, lw = 2, c = 'b')\n",
    "\n",
    "x = np.linspace(-1, 4, 50)\n",
    "y2 = 4*x - 4\n",
    "plt.plot(x, y2, c = 'r')\n",
    "\n",
    "plt.xlabel('x')\n",
    "plt.ylabel('y')\n",
    "plt.grid(True, linestyle = '-', color = '0.4')\n",
    "\n",
    "plt.show()"
   ]
  },
  {
   "cell_type": "code",
   "execution_count": 29,
   "id": "084eef6b",
   "metadata": {},
   "outputs": [],
   "source": [
    "def tangent(y, x0):\n",
    "    y0 = y.subs(x, x0)\n",
    "    x1 = x0 + 1\n",
    "    k = diff(y, x).subs(x, x0)\n",
    "    y1 = y0 + k\n",
    "    return Line((x0, y0), (x1, y1))"
   ]
  },
  {
   "cell_type": "code",
   "execution_count": 31,
   "id": "4bbb0e29",
   "metadata": {},
   "outputs": [
    {
     "data": {
      "text/latex": [
       "$\\displaystyle - \\frac{x}{4} + y - 24$"
      ],
      "text/plain": [
       "-x/4 + y - 24"
      ]
     },
     "execution_count": 31,
     "metadata": {},
     "output_type": "execute_result"
    }
   ],
   "source": [
    "x = symbols('x')\n",
    "y = 6*x**(1/3) + 2*sqrt(x)\n",
    "x0 = 64\n",
    "y0 = y.subs(x, x0)\n",
    "l = tangent(y, 64)\n",
    "l.equation()"
   ]
  },
  {
   "cell_type": "code",
   "execution_count": 55,
   "id": "5408755d",
   "metadata": {},
   "outputs": [
    {
     "data": {
      "text/latex": [
       "$\\displaystyle - x - \\frac{y}{4} + 74$"
      ],
      "text/plain": [
       "-x - y/4 + 74"
      ]
     },
     "execution_count": 55,
     "metadata": {},
     "output_type": "execute_result"
    }
   ],
   "source": [
    "p = Point(x0,y0)\n",
    "l.perpendicular_line(p).equation()"
   ]
  },
  {
   "cell_type": "code",
   "execution_count": 58,
   "id": "c4e0b2e1",
   "metadata": {},
   "outputs": [
    {
     "data": {
      "image/png": "[encoded data removed]",
      "text/plain": [
       "<Figure size 640x480 with 1 Axes>"
      ]
     },
     "metadata": {},
     "output_type": "display_data"
    }
   ],
   "source": [
    "x = np.linspace(0, 120, 50)\n",
    "y1 = 6*x**(1/3) + 2*x**(1/2)\n",
    "plt.plot(x, y1, lw=2, c='r')\n",
    "\n",
    "х = np.linspace(10, 120, 50)\n",
    "у2 = x/4 + 24\n",
    "plt.plot(x, y2, '--', lw=2, c='b')\n",
    "\n",
    "х = np.linspace(60, 70, 50)\n",
    "y3 = 296 - 4*x\n",
    "plt.plot(x, y3, '-.', lw=2, c='g')\n",
    "\n",
    "plt.xlabel('х')\n",
    "plt.ylabel('у')\n",
    "plt.grid(True, linestyle='-', color='0.4')\n",
    "plt.axis('equal')\n",
    "plt.show()\n"
   ]
  },
  {
   "cell_type": "code",
   "execution_count": 69,
   "id": "6b125559",
   "metadata": {},
   "outputs": [],
   "source": [
    "def tangent_from_point(y, x1, y1):\n",
    "    x, x0, y0 = symbols('x x0 y0')\n",
    "    y_diff = diff(y, x).subs(x, x0)\n",
    "    y_tang = y_diff*(x - x0) + y0\n",
    "    first_eq = y.subs(x, x0) - y0\n",
    "    second_eq = y_tang.subs(x, x1) - y1\n",
    "    res = solve([first_eq, second_eq], \\\n",
    "               [x0, y0], dict = True)\n",
    "    if len(res) == 1: \n",
    "        x01 = res[0][x0]\n",
    "        y01 = res[0][y0]\n",
    "        return Line((x01, y01), (x1, y1))\n",
    "    else: \n",
    "        x021 = res[0][x0]; y021 = res[0][y0]\n",
    "        x022 = res[1][x0]; y022 = res[1][y0]\n",
    "        return Line((x021, y021), (x1, y1)), \\\n",
    "               Line((x022, y022), (x1, y1))"
   ]
  },
  {
   "cell_type": "code",
   "execution_count": 78,
   "id": "5c077b43",
   "metadata": {},
   "outputs": [
    {
     "data": {
      "image/png": "[encoded data removed]",
      "text/plain": [
       "<Figure size 640x480 with 1 Axes>"
      ]
     },
     "metadata": {},
     "output_type": "display_data"
    }
   ],
   "source": [
    "x = np.linspace(0, 7, 50)\n",
    "y1 = np.sqrt(x)\n",
    "plt.plot(x, y1, lw = 2, c = 'b')\n",
    "\n",
    "x = np.linspace(-4, 7, 50)\n",
    "y2 = x/4 + 1\n",
    "plt.plot(x, y2, c = 'r')\n",
    "\n",
    "plt.xlabel('x')\n",
    "plt.ylabel('y')\n",
    "plt.grid(True, linestyle = '-', color = '0.4')\n",
    "plt.show()"
   ]
  },
  {
   "cell_type": "code",
   "execution_count": 88,
   "id": "88bb0bc6",
   "metadata": {},
   "outputs": [
    {
     "data": {
      "image/png": "[encoded data removed]",
      "text/plain": [
       "<Figure size 640x480 with 1 Axes>"
      ]
     },
     "metadata": {},
     "output_type": "display_data"
    }
   ],
   "source": [
    "t = np.linspace(-1.5, 5, 100)\n",
    "f = t**3 - 5*t**2 + 5\n",
    "fd = 3*t**2 - 10*t\n",
    "fdd = 6*t - 10\n",
    "plt.plot(t, f, lw = 2, color = 'red', label = \"$y(x)$\")\n",
    "plt.plot(t, fd, '--', lw = 2, color = 'b', label = \"$y^{'}(x)$\")\n",
    "plt.plot(t, fdd, '-.', color = 'g', label = \"$y^{''}(x)$\")\n",
    "plt.plot([0], [0], 'o', color = 'y')\n",
    "plt.plot([0], [5], 'o', color = 'y')\n",
    "plt.plot([3.3], [0], 'o', color = 'y')\n",
    "plt.plot([3.3], [-13.4], 'o', color = 'y')\n",
    "plt.plot([1.65], [0], 'o', color = 'b')\n",
    "plt.plot([1.65], [-4], 'o', color = 'b')\n",
    "plt.grid(True, linestyle = '-', color = '0.4')\n",
    "plt.legend()\n",
    "plt.show()"
   ]
  },
  {
   "cell_type": "code",
   "execution_count": 89,
   "id": "1140dab7",
   "metadata": {},
   "outputs": [],
   "source": [
    "from scipy.optimize import minimize"
   ]
  },
  {
   "cell_type": "code",
   "execution_count": 90,
   "id": "bb466664",
   "metadata": {},
   "outputs": [
    {
     "data": {
      "text/latex": [
       "$\\displaystyle - \\sqrt{3} < x \\wedge x < \\sqrt{3}$"
      ],
      "text/plain": [
       "(x < sqrt(3)) & (-sqrt(3) < x)"
      ]
     },
     "execution_count": 90,
     "metadata": {},
     "output_type": "execute_result"
    }
   ],
   "source": [
    "x, y = symbols('x, y')\n",
    "solve(x**2 < 3)"
   ]
  },
  {
   "cell_type": "code",
   "execution_count": 92,
   "id": "1949e251",
   "metadata": {},
   "outputs": [
    {
     "data": {
      "text/plain": [
       "[-y, y]"
      ]
     },
     "execution_count": 92,
     "metadata": {},
     "output_type": "execute_result"
    }
   ],
   "source": [
    "solve(x**2 - y**2, x)"
   ]
  },
  {
   "cell_type": "code",
   "execution_count": 93,
   "id": "318d3a39",
   "metadata": {},
   "outputs": [],
   "source": [
    "f = lambda x: np.exp(-x) - np.exp(-2*x)"
   ]
  },
  {
   "cell_type": "code",
   "execution_count": 94,
   "id": "d8c202b1",
   "metadata": {},
   "outputs": [
    {
     "data": {
      "image/png": "[encoded data removed]",
      "text/plain": [
       "<Figure size 640x480 with 1 Axes>"
      ]
     },
     "metadata": {},
     "output_type": "display_data"
    }
   ],
   "source": [
    "x = np.linspace(0.1, 4, 50)\n",
    "plt.plot(x, f(x), 'r')\n",
    "plt.xlabel('X')\n",
    "plt.ylabel('Y')\n",
    "plt.grid(True, linestyle = '-', color = '0.4')\n",
    "plt.show()"
   ]
  },
  {
   "cell_type": "code",
   "execution_count": 95,
   "id": "671dfb76",
   "metadata": {},
   "outputs": [
    {
     "name": "stdout",
     "output_type": "stream",
     "text": [
      "x_max: 0.693 f_max: 0.250\n"
     ]
    }
   ],
   "source": [
    "f_max = lambda x: -(np.exp(-x) - np.exp(-2*x))\n",
    "res = minimize(f_max, -2)\n",
    "print('x_max: %.3f f_max: %.3f' % (res.x, f(res.x)))"
   ]
  },
  {
   "cell_type": "code",
   "execution_count": 96,
   "id": "9910b18f",
   "metadata": {},
   "outputs": [
    {
     "data": {
      "text/plain": [
       "True"
      ]
     },
     "execution_count": 96,
     "metadata": {},
     "output_type": "execute_result"
    }
   ],
   "source": [
    "res.success"
   ]
  },
  {
   "cell_type": "code",
   "execution_count": 97,
   "id": "11e6d0b3",
   "metadata": {},
   "outputs": [
    {
     "data": {
      "text/plain": [
       "  message: Optimization terminated successfully.\n",
       "  success: True\n",
       "   status: 0\n",
       "      fun: -0.249999999999441\n",
       "        x: [ 6.931e-01]\n",
       "      nit: 12\n",
       "      jac: [-7.413e-07]\n",
       " hess_inv: [[ 1.986e+00]]\n",
       "     nfev: 26\n",
       "     njev: 13"
      ]
     },
     "execution_count": 97,
     "metadata": {},
     "output_type": "execute_result"
    }
   ],
   "source": [
    "res"
   ]
  },
  {
   "cell_type": "code",
   "execution_count": 133,
   "id": "a6f0d37d",
   "metadata": {},
   "outputs": [],
   "source": [
    "def tangent_plane(F, M):\n",
    "    F_diff_x = diff(F, x).subs({x:M.x, y:M.y, z:M.z})\n",
    "    F_diff_y = diff(F, y).subs({x:M.x, y:M.y, z:M.z})\n",
    "    F_diff_z = diff(F, z).subs({x:M.x, y:M.y, z:M.z})\n",
    "    n = Point(F_diff_x, F_diff_y, F_diff_z)\n",
    "    p = Plane(M, normal_vector = n).equation()\n",
    "    K = Point(M.x+n.x, M.y+n.y, M.z+n.z)\n",
    "    l_n = Line(M, K).arbitrary_point()\n",
    "    \n",
    "    return p, l_n"
   ]
  },
  {
   "cell_type": "code",
   "execution_count": 134,
   "id": "08725d54",
   "metadata": {},
   "outputs": [],
   "source": [
    "x, y, z = symbols('x y z')\n",
    "M = Point(1, 1, 1)\n",
    "F = x**2 + y**2 + z**2 - 9\n",
    "p, l_n = tangent_plane(F, M)"
   ]
  },
  {
   "cell_type": "code",
   "execution_count": 122,
   "id": "23143afd",
   "metadata": {},
   "outputs": [
    {
     "data": {
      "text/latex": [
       "$\\displaystyle 2 x + 2 y + 2 z - 6$"
      ],
      "text/plain": [
       "2*x + 2*y + 2*z - 6"
      ]
     },
     "execution_count": 122,
     "metadata": {},
     "output_type": "execute_result"
    }
   ],
   "source": [
    "p"
   ]
  },
  {
   "cell_type": "code",
   "execution_count": 123,
   "id": "8500787b",
   "metadata": {},
   "outputs": [
    {
     "data": {
      "text/latex": [
       "$\\displaystyle \\operatorname{Point3D}\\left(2 t + 1, 2 t + 1, 2 t + 1\\right)$"
      ],
      "text/plain": [
       "Point3D(2*t + 1, 2*t + 1, 2*t + 1)"
      ]
     },
     "execution_count": 123,
     "metadata": {},
     "output_type": "execute_result"
    }
   ],
   "source": [
    "l_n"
   ]
  },
  {
   "cell_type": "code",
   "execution_count": 125,
   "id": "9c8c3a5f",
   "metadata": {},
   "outputs": [],
   "source": [
    "z = lambda w: (w[0] - 1)**2 + (w[1] - 3)**4\n",
    "res = minimize(z, (0, 0))"
   ]
  },
  {
   "cell_type": "code",
   "execution_count": 126,
   "id": "35cade36",
   "metadata": {},
   "outputs": [
    {
     "data": {
      "text/plain": [
       "array([0.99999999, 2.98725136])"
      ]
     },
     "execution_count": 126,
     "metadata": {},
     "output_type": "execute_result"
    }
   ],
   "source": [
    "res.x"
   ]
  },
  {
   "cell_type": "code",
   "execution_count": 127,
   "id": "8ceafe8a",
   "metadata": {},
   "outputs": [
    {
     "data": {
      "text/plain": [
       "array([1.00000001, 3.001     ])"
      ]
     },
     "execution_count": 127,
     "metadata": {},
     "output_type": "execute_result"
    }
   ],
   "source": [
    "res = minimize(z, (9.999, 3.001))\n",
    "res.x"
   ]
  },
  {
   "cell_type": "code",
   "execution_count": 129,
   "id": "e3fe9259",
   "metadata": {},
   "outputs": [
    {
     "data": {
      "text/plain": [
       "True"
      ]
     },
     "execution_count": 129,
     "metadata": {},
     "output_type": "execute_result"
    }
   ],
   "source": [
    "z((1, 3)) < z((0.999, 3.001))"
   ]
  },
  {
   "cell_type": "code",
   "execution_count": 130,
   "id": "74d90e8d",
   "metadata": {},
   "outputs": [
    {
     "data": {
      "text/plain": [
       "0"
      ]
     },
     "execution_count": 130,
     "metadata": {},
     "output_type": "execute_result"
    }
   ],
   "source": [
    "z((1, 3))"
   ]
  },
  {
   "cell_type": "code",
   "execution_count": 131,
   "id": "1310b443",
   "metadata": {},
   "outputs": [],
   "source": [
    "z = lambda w: w[0]**4 + w[1]**4 - 2*w[0]**2 + \\\n",
    "              4*w[0]*w[1] - 2*w[1]**2"
   ]
  },
  {
   "cell_type": "code",
   "execution_count": 143,
   "id": "83156f3f",
   "metadata": {},
   "outputs": [
    {
     "name": "stdout",
     "output_type": "stream",
     "text": [
      "E_x: 0.33 E_y: 0.66\n"
     ]
    }
   ],
   "source": [
    "z = 4.5*x**(0.33) * y**(0.66)\n",
    "z_x = diff(z, x)\n",
    "z_y = diff(z, y)\n",
    "\n",
    "E_x = (x/z) * z_x\n",
    "E_y = (y/z) * z_y\n",
    "print('E_x: %.2f E_y: %.2f' % (E_x, E_y))"
   ]
  },
  {
   "cell_type": "code",
   "execution_count": 144,
   "id": "783053a9",
   "metadata": {},
   "outputs": [
    {
     "data": {
      "text/plain": [
       "[-sqrt(5), sqrt(5)]"
      ]
     },
     "execution_count": 144,
     "metadata": {},
     "output_type": "execute_result"
    }
   ],
   "source": [
    "K, V0 = symbols('K, V0')\n",
    "V = V0*log(5+K**2)\n",
    "Vprim2 = diff(V, K, 2)\n",
    "Vprim3 = diff(V, K, 3)\n",
    "s = solve(Vprim2, K)\n",
    "s"
   ]
  },
  {
   "cell_type": "code",
   "execution_count": 145,
   "id": "fdc65467",
   "metadata": {},
   "outputs": [
    {
     "data": {
      "text/latex": [
       "$\\displaystyle - \\frac{\\sqrt{5} V_{0}}{25}$"
      ],
      "text/plain": [
       "-sqrt(5)*V0/25"
      ]
     },
     "execution_count": 145,
     "metadata": {},
     "output_type": "execute_result"
    }
   ],
   "source": [
    "Vprim3.subs(K, s[1])"
   ]
  },
  {
   "cell_type": "markdown",
   "id": "0238f766",
   "metadata": {},
   "source": [
    "# Индвидуальное задание, вариант 10"
   ]
  },
  {
   "cell_type": "markdown",
   "id": "7b75c291",
   "metadata": {},
   "source": [
    "Задание №1.\n",
    "Найти вторую производную функции y = xe**(x**2)"
   ]
  },
  {
   "cell_type": "code",
   "execution_count": 1,
   "id": "67bd2ca7",
   "metadata": {},
   "outputs": [
    {
     "data": {
      "text/latex": [
       "$\\displaystyle 2 x \\left(2 x^{2} + 3\\right) e^{x^{2}}$"
      ],
      "text/plain": [
       "2*x*(2*x**2 + 3)*exp(x**2)"
      ]
     },
     "execution_count": 1,
     "metadata": {},
     "output_type": "execute_result"
    }
   ],
   "source": [
    "#!/usr/bin/env python\n",
    "# -*- coding:utf-8 -*-\n",
    "\n",
    "from sympy import *\n",
    "x = symbols('x')\n",
    "y = x*exp(x**2)\n",
    "diff(y, x, 2)"
   ]
  },
  {
   "cell_type": "markdown",
   "id": "20d2e8db",
   "metadata": {},
   "source": [
    "Задание №2. Опытным путем установлено, что объем q продукции, производимой на некотором предприятии одним среднестатистическим рабочим в течение рабочей смены (8 часов), определяется формулой:\n",
    "q = -0.05t^3 + 0.45*t^2 + 5t (0 <= t <=8)\n",
    "\n",
    "Здесь t – время в часах. Требуется установить зависимость\n",
    "y = y(t) производительности труда рабочего от времени и\n",
    "построить график этой зависимости."
   ]
  },
  {
   "cell_type": "code",
   "execution_count": 22,
   "id": "aec3067b",
   "metadata": {},
   "outputs": [
    {
     "name": "stdout",
     "output_type": "stream",
     "text": [
      "-0.15*t**2 + 0.9*t + 5\n"
     ]
    }
   ],
   "source": [
    "#!/usr/bin/env python\n",
    "# -*- coding:utf-8 -*-\n",
    "\n",
    "from sympy import *\n",
    "import numpy as np\n",
    "import matplotlib.pyplot as plt\n",
    "t = symbols('t')\n",
    "q = -0.05*t**3 + 0.45*t**2 + 5*t\n",
    "y = diff(q, t)\n",
    "print(y)"
   ]
  },
  {
   "cell_type": "code",
   "execution_count": 55,
   "id": "3d4ef768",
   "metadata": {},
   "outputs": [
    {
     "data": {
      "image/png": "[encoded data removed]",
      "text/plain": [
       "<Figure size 640x480 with 1 Axes>"
      ]
     },
     "metadata": {},
     "output_type": "display_data"
    }
   ],
   "source": [
    "t = np.linspace(0, 8, 100)\n",
    "z = -0.15*t**2 + 0.9*t + 5\n",
    "plt.plot(t, z, '-', lw = 2, color = 'r')\n",
    "plt.grid(True)\n",
    "plt.plot([0], [5], 'o', color = 'y')\n",
    "plt.plot([3], [6.35], 'o', color = '0.4')\n",
    "plt.plot([8], [2.6], 'o', color = 'y')\n",
    "plt.show()"
   ]
  },
  {
   "cell_type": "markdown",
   "id": "c41a5442",
   "metadata": {},
   "source": [
    "Графиком этой зависимости y от t является парабола с ветвями, направленными вниз (рис.1). Приведенный график показывает, что производительность труда в первые три часа работы возрастает (с 5 до 6,35 единиц продукции в час), а потом монотонно падает, и к концу рабочего дня составляет лишь 2,6 единиц продукции в час."
   ]
  }
 ],
 "metadata": {
  "kernelspec": {
   "display_name": "Python 3 (ipykernel)",
   "language": "python",
   "name": "python3"
  },
  "language_info": {
   "codemirror_mode": {
    "name": "ipython",
    "version": 3
   },
   "file_extension": ".py",
   "mimetype": "text/x-python",
   "name": "python",
   "nbconvert_exporter": "python",
   "pygments_lexer": "ipython3",
   "version": "3.10.9"
  }
 },
 "nbformat": 4,
 "nbformat_minor": 5
}
